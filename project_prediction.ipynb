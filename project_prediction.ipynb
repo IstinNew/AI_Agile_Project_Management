{
  "nbformat": 4,
  "nbformat_minor": 0,
  "metadata": {
    "colab": {
      "provenance": []
    },
    "kernelspec": {
      "name": "python3",
      "display_name": "Python 3"
    },
    "language_info": {
      "name": "python"
    }
  },
  "cells": [
    {
      "cell_type": "markdown",
      "source": [
        "Welcome to the AI Agile Project Management Notebook! This notebook demonstrates a machine learning model that predicts project completion times based on past project data. It integrates AI-driven solutions to enhance Agile Project Management.\n",
        "\n",
        "## Steps to Run the Notebook\n",
        "1. Import necessary libraries.\n",
        "2. Generate sample project data.\n",
        "3. Preprocess the data for modeling.\n",
        "4. Train a machine learning model.\n",
        "5. Evaluate and display the model's performance.\n",
        "\n",
        "Let's get started!"
      ],
      "metadata": {
        "id": "1cMyvThoxztl"
      }
    },
    {
      "cell_type": "code",
      "source": [
        "### Import Libraries\n",
        "import pandas as pd\n",
        "from sklearn.model_selection import train_test_split\n",
        "from sklearn.linear_model import LinearRegression\n",
        "from sklearn.metrics import mean_absolute_error"
      ],
      "metadata": {
        "id": "Hv2cz4Uzx4TB"
      },
      "execution_count": 17,
      "outputs": []
    },
    {
      "cell_type": "markdown",
      "source": [
        "## Creating a CSV"
      ],
      "metadata": {
        "id": "pZ9tS1Og19F0"
      }
    },
    {
      "cell_type": "code",
      "source": [
        "import pandas as pd\n",
        "# Generate sample project data\n",
        "data = {\n",
        "    'Feature1': [10, 20, 30, 40, 50],\n",
        "    'Feature2': [20, 30, 40, 50, 60],\n",
        "    'Feature3': [30, 40, 50, 60, 70],\n",
        "    'CompletionTime': [40, 50, 60, 70, 80]\n",
        "}\n",
        "\n",
        "# Create a DataFrame\n",
        "df = pd.DataFrame(data)\n",
        "\n",
        "# Save DataFrame to a CSV file\n",
        "df.to_csv('project_data.csv', index=False)\n",
        "\n",
        "print(\"CSV file created successfully.\")\n"
      ],
      "metadata": {
        "colab": {
          "base_uri": "https://localhost:8080/"
        },
        "id": "D3hSUUby2ABg",
        "outputId": "ea7407d1-fd11-4081-fcd9-dba1585dfc18"
      },
      "execution_count": 18,
      "outputs": [
        {
          "output_type": "stream",
          "name": "stdout",
          "text": [
            "CSV file created successfully.\n"
          ]
        }
      ]
    },
    {
      "cell_type": "markdown",
      "source": [
        "## Load Dataset"
      ],
      "metadata": {
        "id": "5o_IsZYM3CdW"
      }
    },
    {
      "cell_type": "code",
      "source": [
        "# Load the dataset from the CSV file\n",
        "data = pd.read_csv('project_data.csv')\n",
        "print(data)"
      ],
      "metadata": {
        "colab": {
          "base_uri": "https://localhost:8080/"
        },
        "id": "KHL5uRNi3DaA",
        "outputId": "a239cd1b-98c0-4c33-f514-98da52e85c57"
      },
      "execution_count": 19,
      "outputs": [
        {
          "output_type": "stream",
          "name": "stdout",
          "text": [
            "   Feature1  Feature2  Feature3  CompletionTime\n",
            "0        10        20        30              40\n",
            "1        20        30        40              50\n",
            "2        30        40        50              60\n",
            "3        40        50        60              70\n",
            "4        50        60        70              80\n"
          ]
        }
      ]
    },
    {
      "cell_type": "markdown",
      "source": [
        "## Main Code"
      ],
      "metadata": {
        "id": "8GHy9281y59X"
      }
    },
    {
      "cell_type": "code",
      "source": [
        "X = data[['Feature1', 'Feature2', 'Feature3']]  # Features\n",
        "y = data['CompletionTime']  # Target\n",
        "X_train, X_test, y_train, y_test = train_test_split(X, y, test_size=0.2, random_state=42)\n",
        "\n",
        "model = LinearRegression()\n",
        "model.fit(X_train, y_train)\n",
        "\n",
        "predictions = model.predict(X_test)\n",
        "mae = mean_absolute_error(y_test, predictions)\n",
        "print(f'Mean Absolute Error: {mae}')\n"
      ],
      "metadata": {
        "colab": {
          "base_uri": "https://localhost:8080/"
        },
        "id": "KKSrGm0ay9tC",
        "outputId": "26ec402e-d394-47c6-a804-1c91905b15fe"
      },
      "execution_count": 20,
      "outputs": [
        {
          "output_type": "stream",
          "name": "stdout",
          "text": [
            "Mean Absolute Error: 0.0\n"
          ]
        }
      ]
    },
    {
      "cell_type": "markdown",
      "source": [
        "## Display Results"
      ],
      "metadata": {
        "id": "qawIeB2DzzOt"
      }
    },
    {
      "cell_type": "code",
      "source": [
        "results = pd.DataFrame({'Actual': y_test, 'Predicted': predictions})\n",
        "print(results)"
      ],
      "metadata": {
        "colab": {
          "base_uri": "https://localhost:8080/"
        },
        "id": "cACPl5FZz2Ab",
        "outputId": "b1121c47-fcb5-4833-930b-3e1e0be312bf"
      },
      "execution_count": 12,
      "outputs": [
        {
          "output_type": "stream",
          "name": "stdout",
          "text": [
            "   Actual  Predicted\n",
            "1      50       50.0\n"
          ]
        }
      ]
    }
  ]
}